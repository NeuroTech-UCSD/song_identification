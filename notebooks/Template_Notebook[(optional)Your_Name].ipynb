{
  "nbformat": 4,
  "nbformat_minor": 0,
  "metadata": {
    "colab": {
      "name": "Template Notebook[(optional)Your Name].ipynb",
      "provenance": []
    },
    "kernelspec": {
      "name": "python3",
      "display_name": "Python 3"
    },
    "language_info": {
      "name": "python"
    }
  },
  "cells": [
    {
      "cell_type": "markdown",
      "metadata": {
        "id": "5pHxEfRAaDzU"
      },
      "source": [
        "# Template Notebook"
      ]
    },
    {
      "cell_type": "markdown",
      "metadata": {
        "id": "VsXUZ_S4QWPw"
      },
      "source": [
        "## README"
      ]
    },
    {
      "cell_type": "markdown",
      "metadata": {
        "id": "I0tlw03sQak_"
      },
      "source": [
        "Explain what the notebook does and the concepts to know. Below are some of the things you might need.\n",
        "\n",
        "---\n",
        "\n",
        "Notes:\n",
        "- note one\n",
        "- note two\n",
        "\n",
        "---\n",
        "\n",
        "Math Formula: $\\frac{n!}{k!(n-k)!}$ \n",
        "\n",
        "Link: [A link](https://www.google.com)\n",
        "\n",
        "Image: ![An image](https://www.google.com/images/rss.png)\n",
        "\n",
        "Table:\n",
        "\n",
        "Variable Names  | Meaning\n",
        "---|---\n",
        "tau_c  | $\\tau_c$, time constant. More explanations...\n",
        "alpha_star  | $\\alpha^*$, some scalar for something. More explanations...\n",
        "\n",
        "Code block: \n",
        "```python\n",
        "print(\"a\")\n",
        "```"
      ]
    },
    {
      "cell_type": "markdown",
      "metadata": {
        "id": "OpQ9y6UfLasn"
      },
      "source": [
        "## IMPORTS"
      ]
    },
    {
      "cell_type": "code",
      "metadata": {
        "id": "ifcJ8gBLPw2Z"
      },
      "source": [
        "!pip install neurodsp"
      ],
      "execution_count": null,
      "outputs": []
    },
    {
      "cell_type": "code",
      "metadata": {
        "id": "81Sc23ULP50R"
      },
      "source": [
        "from google.colab import drive\n",
        "drive.mount('/content/drive')\n",
        "%cd '/content/drive/MyDrive/Project-Template'"
      ],
      "execution_count": null,
      "outputs": []
    },
    {
      "cell_type": "code",
      "metadata": {
        "id": "lZp4YHjELgLQ"
      },
      "source": [
        "import numpy as np\n",
        "import matplotlib.pyplot as plt\n",
        "import neurodsp"
      ],
      "execution_count": 1,
      "outputs": []
    },
    {
      "cell_type": "markdown",
      "metadata": {
        "id": "8QFc4weOMrbZ"
      },
      "source": [
        "## SETTINGS"
      ]
    },
    {
      "cell_type": "code",
      "metadata": {
        "id": "-E3LnRv2MuBP"
      },
      "source": [
        "L_FREQ = 4.25\n",
        "H_FREQ = 90\n",
        "NOTCH_FREQ = 60"
      ],
      "execution_count": 2,
      "outputs": []
    },
    {
      "cell_type": "markdown",
      "metadata": {
        "id": "vJWow-76V05s"
      },
      "source": [
        "#### Reference (optional)"
      ]
    },
    {
      "cell_type": "markdown",
      "metadata": {
        "id": "sl1f9rYfV8Hz"
      },
      "source": [
        "Constants | Meaning\n",
        "---|---\n",
        "L_FREQ  | Lower bound of the filtering frequency range\n",
        "H_FREQ  | Upper bound of the filtering frequency range\n",
        "NOTCH_FREQ | frequency for the [notch filter](https://en.wikipedia.org/wiki/Band-stop_filter)"
      ]
    },
    {
      "cell_type": "markdown",
      "metadata": {
        "id": "hOouOUYJOywj"
      },
      "source": [
        "## FUNCTIONS"
      ]
    },
    {
      "cell_type": "code",
      "metadata": {
        "id": "scy1jKsiO6-P"
      },
      "source": [
        "def do_something():\n",
        "    \"\"\"Helper function to do things.\"\"\"\n",
        "    print('Things have been done.')"
      ],
      "execution_count": null,
      "outputs": []
    },
    {
      "cell_type": "markdown",
      "metadata": {
        "id": "aFkscEd3ci0O"
      },
      "source": [
        "#### PREPROCESSING"
      ]
    },
    {
      "cell_type": "code",
      "metadata": {
        "id": "luxEwL8Scmwj"
      },
      "source": [
        ""
      ],
      "execution_count": null,
      "outputs": []
    },
    {
      "cell_type": "markdown",
      "metadata": {
        "id": "desv8rLCbvaz"
      },
      "source": [
        "#### MODELING"
      ]
    },
    {
      "cell_type": "code",
      "metadata": {
        "id": "xsr_ehF0a6Up"
      },
      "source": [
        "class CustomModel:\n",
        "    \"\"\"Custom module for ...\n",
        "    Fields:\n",
        "        X (array): (run_num, trial_num, stimulation_num, channel_num)\n",
        "                    the input data for the module\n",
        "                    modified by: (optional, if you find it hard to track)\n",
        "                        self.do_this()\n",
        "                        self.__sub_routine()\n",
        "        y (array): (run_num, trial_num, stimulation_num, channel_num)\n",
        "                    the classification labels\n",
        "                    modified by: (optional)\n",
        "                        self.__sub_routine()\n",
        "    Notes: (optional)\n",
        "        - assumes that the input X is sampled at 128Hz\n",
        "    \"\"\"\n",
        "\n",
        "    def __init__(self, X, y):\n",
        "        \"\"\"\n",
        "        Inputs:\n",
        "            X (array): (run_num, trial_num, stimulation_num, channel_num,\n",
        "                                                            non_target_num)\n",
        "                        the input data for the module\n",
        "            y (array): (run_num, trial_num, stimulation_num, channel_num,\n",
        "                                                            non_target_num)\n",
        "                        the classification labels\n",
        "        \"\"\"\n",
        "        # reshape to required dimension\n",
        "        X = X.reshape([-1, X.shape[-2], X.shape[-1]])\n",
        "        y = y.reshape([-1])\n",
        "        self.X = X\n",
        "        self.y = y\n",
        "\n",
        "    def do_this(self):\n",
        "        \"\"\"This method does this thing\"\"\"\n",
        "        self.__sub_routine()\n",
        "        self.X = [1]\n",
        "        print('Things have been done.')\n",
        "\n",
        "    ### PRIVATE HELPER METHODS\n",
        "    \n",
        "    def __sub_routine(self):\n",
        "        \"\"\"This method does this thing\"\"\"\n",
        "        self.X = [1]\n",
        "        self.y = [2]\n",
        "        print('Things have been done.')"
      ],
      "execution_count": null,
      "outputs": []
    },
    {
      "cell_type": "markdown",
      "metadata": {
        "id": "T9NKFc0dO_fE"
      },
      "source": [
        "#### UTILITY FUNCTIONS"
      ]
    },
    {
      "cell_type": "code",
      "metadata": {
        "id": "vSgEXnhgPKTQ"
      },
      "source": [
        "def plot_it(X):\n",
        "\n",
        "  fig, ax = plt.subplots(5, figsize=[12,6], tight_layout=True)\n",
        "  for ii in range(X.shape[1]):\n",
        "    ax[ii].plot(times, X[:,ii])\n",
        "\n",
        "  return fig, ax"
      ],
      "execution_count": null,
      "outputs": []
    },
    {
      "cell_type": "markdown",
      "metadata": {
        "id": "2nmWEwEMPYa3"
      },
      "source": [
        "# ================================="
      ]
    },
    {
      "cell_type": "markdown",
      "metadata": {
        "id": "aTw9e4-hYtN7"
      },
      "source": [
        "## Load Data"
      ]
    },
    {
      "cell_type": "code",
      "metadata": {
        "id": "E3f3nasbYxa-"
      },
      "source": [
        "data_path = \"data/Covert and overt ERP-based BCI (009-2014)/P300 Speller\"\n",
        "patient_data = [scipy.io.loadmat(os.path.join(data_path, file)) for file in os.listdir(data_path)]"
      ],
      "execution_count": null,
      "outputs": []
    },
    {
      "cell_type": "markdown",
      "metadata": {
        "id": "x7ynP0_VZUYc"
      },
      "source": [
        "#### Data Description"
      ]
    },
    {
      "cell_type": "markdown",
      "metadata": {
        "id": "a3eYcpfBaYxX"
      },
      "source": [
        "* 3 runs per session, 6 trials (i.e. character) per run, 8 simulations per trial, 12 classes (10 targets + 2 non targets). \n",
        "* 16 channels, 10-10 montage\n",
        "* y (0:idle, 1:non-target, 2:target)\n",
        "* y_stim (0: idle, 1: class1, 2: class2, ... 12: class12)\n",
        "* 256 Hz, 3.90625 ms/timepoint"
      ]
    },
    {
      "cell_type": "code",
      "metadata": {
        "id": "qOfXMrdDadZ2"
      },
      "source": [
        "plot_it(patient_data)"
      ],
      "execution_count": null,
      "outputs": []
    },
    {
      "cell_type": "markdown",
      "metadata": {
        "id": "jZqrWWecc9dd"
      },
      "source": [
        "## Preprocessing"
      ]
    },
    {
      "cell_type": "code",
      "metadata": {
        "id": "lTo0222QdAll"
      },
      "source": [
        ""
      ],
      "execution_count": null,
      "outputs": []
    },
    {
      "cell_type": "markdown",
      "metadata": {
        "id": "Q0WxpLAucEDy"
      },
      "source": [
        "## Modeling"
      ]
    },
    {
      "cell_type": "markdown",
      "metadata": {
        "id": "bbk4Vg86cT4p"
      },
      "source": [
        "### Model 1"
      ]
    },
    {
      "cell_type": "code",
      "metadata": {
        "id": "ockOPrLRcXIT"
      },
      "source": [
        ""
      ],
      "execution_count": null,
      "outputs": []
    },
    {
      "cell_type": "markdown",
      "metadata": {
        "id": "EIJmGXCucvrz"
      },
      "source": [
        "### Model 2"
      ]
    },
    {
      "cell_type": "code",
      "metadata": {
        "id": "CvbT1IYtcxSF"
      },
      "source": [
        ""
      ],
      "execution_count": null,
      "outputs": []
    },
    {
      "cell_type": "markdown",
      "metadata": {
        "id": "oPyonYthcx1I"
      },
      "source": [
        "### Compare Model 1 and Model 2"
      ]
    },
    {
      "cell_type": "code",
      "metadata": {
        "id": "L8LZ26DMc34f"
      },
      "source": [
        ""
      ],
      "execution_count": null,
      "outputs": []
    }
  ]
}